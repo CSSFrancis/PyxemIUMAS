{
 "cells": [
  {
   "cell_type": "markdown",
   "id": "f147aed7",
   "metadata": {
    "@deathbeds/jupyterlab-fonts": {
     "styles": {
      "": {
       "body[data-jp-deck-mode='presenting'] &": {
        "zoom": "233%"
       }
      }
     }
    },
    "jp-MarkdownHeadingCollapsed": true,
    "slideshow": {
     "slide_type": "slide"
    },
    "tags": []
   },
   "source": [
    "# pyxem\n",
    "\n",
    "\n",
    "### A 4-D STEM Package in the Hyperspy Ecosystem\n",
    "\n",
    "#### Carter Francis, University of Wisconsin Madison\n",
    "#### *June 13, 2023*"
   ]
  },
  {
   "cell_type": "markdown",
   "id": "539fda54-ef5a-4c6e-9e0e-97c53994d0aa",
   "metadata": {
    "@deathbeds/jupyterlab-fonts": {
     "styles": {
      "": {
       "body[data-jp-deck-mode='presenting'] &": {
        "z-index": "5",
        "zoom": "314%"
       }
      }
     }
    },
    "slideshow": {
     "slide_type": "slide"
    },
    "tags": []
   },
   "source": [
    "# Outline"
   ]
  },
  {
   "cell_type": "markdown",
   "id": "d8e1f5bd-a249-4bc6-bdb5-abb8e419c19f",
   "metadata": {
    "@deathbeds/jupyterlab-fonts": {
     "styles": {
      "": {
       "body[data-jp-deck-mode='presenting'] &": {
        "zoom": "399%"
       }
      }
     }
    },
    "slideshow": {
     "slide_type": "fragment"
    },
    "tags": []
   },
   "source": [
    "1. Introduction to 4D STEM and pyxem\n",
    "2. Loading and Working with Data\n",
    "3. Example workflows\n",
    "4. Other features available \n",
    "5. Scaling pyxem (and hyperspy) to multi TB sized datasets"
   ]
  },
  {
   "cell_type": "markdown",
   "id": "840c2f04",
   "metadata": {
    "editable": true,
    "jupyter": {
     "outputs_hidden": false
    },
    "slideshow": {
     "slide_type": "slide"
    },
    "tags": []
   },
   "source": [
    "## Contributors"
   ]
  },
  {
   "cell_type": "markdown",
   "id": "d9537ad8-0391-466a-8f48-415526f0a20d",
   "metadata": {},
   "source": [
    "<img src=\"Images/Contributors.png\" alt=\"Contributors\" width=\"300\" height=\"250\"> <img src=\"Images/Contributors2.png\" alt=\"Contributors2\" width=\"300\" height=\"350\"><img src=\"Images/Contributors3.png\" alt=\"Contributors3\" width=\"300\" height=\"300\">"
   ]
  },
  {
   "cell_type": "markdown",
   "id": "6c026e60-ecfa-46f0-b439-ca4500c0a0d2",
   "metadata": {
    "@deathbeds/jupyterlab-fonts": {
     "styles": {
      "": {
       "body[data-jp-deck-mode='presenting'] &": {
        "height": "10.745363700680615%",
        "left": "2.34375%",
        "position": "fixed",
        "top": "2.8582317073170733%",
        "width": "95%",
        "z-index": "8",
        "zoom": "114%"
       }
      }
     }
    },
    "slideshow": {
     "slide_type": "slide"
    },
    "tags": []
   },
   "source": [
    "# 4-D STEM Rich in Information (and in Size)"
   ]
  },
  {
   "cell_type": "markdown",
   "id": "87b13772-104d-4fe9-896a-c321d7ed12ab",
   "metadata": {
    "@deathbeds/jupyterlab-fonts": {
     "styles": {
      "": {
       "body[data-jp-deck-mode='presenting'] &": {
        "height": "85.43096402796303%",
        "left": "24.191081523895264%",
        "position": "fixed",
        "top": "14.162538109756099%",
        "width": "43.87776851654053%"
       }
      }
     }
    },
    "jupyterlab-deck": {
     "layer": "fragment"
    },
    "tags": []
   },
   "source": [
    "<img src=\"Images/4DSTEM.gif\" alt=\"4D STEM GIF\">"
   ]
  },
  {
   "cell_type": "markdown",
   "id": "268662bb",
   "metadata": {
    "@deathbeds/jupyterlab-fonts": {
     "styles": {
      "": {
       "body[data-jp-deck-mode='presenting'] &": {
        "height": "28.875356634057997%",
        "left": "0.8906014179099182%",
        "position": "fixed",
        "top": "1.176046638453868%",
        "width": "97.01548490242617%",
        "zoom": "214%"
       }
      }
     }
    },
    "slideshow": {
     "slide_type": "slide"
    },
    "tags": []
   },
   "source": [
    "# Using pyxem \n",
    "\n",
    "Because pyxem integrates with hyperspy importing hyperspy will automatically load pyxem if it is installed. We can load and visualize the same dataset "
   ]
  },
  {
   "cell_type": "code",
   "execution_count": null,
   "id": "768edcd9",
   "metadata": {
    "@deathbeds/jupyterlab-fonts": {
     "styles": {
      "": {
       "body[data-jp-deck-mode='presenting'] &": {
        "height": "100.58961133616624%",
        "left": "2.6138526354940415%",
        "position": "fixed",
        "top": "30.89038984991494%",
        "width": "82.70335437543952%",
        "z-index": "10",
        "zoom": "130%"
       }
      }
     }
    },
    "slideshow": {
     "slide_type": "fragment"
    },
    "tags": []
   },
   "outputs": [],
   "source": [
    "import hyperspy.api as hs\n",
    "hs.set_log_level(\"ERROR\")\n",
    "hs.print_known_signal_types()  "
   ]
  },
  {
   "cell_type": "markdown",
   "id": "fd484ea3-3d30-4033-ba01-5344be260246",
   "metadata": {
    "@deathbeds/jupyterlab-fonts": {
     "styles": {
      "": {
       "body[data-jp-deck-mode='presenting'] &": {
        "zoom": "214%"
       }
      }
     }
    },
    "slideshow": {
     "slide_type": "slide"
    },
    "tags": []
   },
   "source": [
    "# Pyxem Dependacy (Family) Tree"
   ]
  },
  {
   "cell_type": "markdown",
   "id": "2b6cd287-dcb6-4402-9ee7-9b409f467856",
   "metadata": {
    "@deathbeds/jupyterlab-fonts": {
     "styles": {
      "": {
       "body[data-jp-deck-mode='presenting'] &": {
        "zoom": "269%"
       }
      }
     }
    },
    "slideshow": {
     "slide_type": "fragment"
    },
    "tags": []
   },
   "source": [
    "<img src=\"DependancyTree.svg\" alt=\"Dependancy Tree\">"
   ]
  },
  {
   "cell_type": "markdown",
   "id": "d097d2d5-4ffc-4df5-b33a-1e23efebe6e1",
   "metadata": {
    "slideshow": {
     "slide_type": "slide"
    },
    "tags": []
   },
   "source": [
    "## Pyxem's Design Philsophy\n",
    "\n",
    "- Reuse Code whenever possible\n",
    "- Upstream Features --> __Decrease__ the size of `pyxem` but __increase__ the number of features offered.\n",
    "- Colaberate with other packages and build from the bottom up. If things aren't worth doing right they aren't worth doing.\n",
    "\n",
    "### Some stats:\n",
    "\n",
    "- In total pyxem has ~23,000 lines of code and ~11,000 lines of inline documentation (Not including our substantial documentation)!\n",
    "- 13,000 lines of those code are tests! Making the meat of the project only around 10,000 lines of code!\n",
    "- In  comparison to other 4-D STEM packages `pyxem` has about a quarter of the lines of code with no real decrease in functionality. \n",
    "- We see this as important for future development! "
   ]
  },
  {
   "cell_type": "markdown",
   "id": "90d5a6e7-cfb6-47eb-a599-0b13b30d34d2",
   "metadata": {
    "@deathbeds/jupyterlab-fonts": {
     "styles": {
      "": {
       "body[data-jp-deck-mode='presenting'] &": {
        "height": "11.096407740688505%",
        "left": "4.389881406511579%",
        "position": "fixed",
        "top": "10.138625954409854%",
        "width": "88.89732360839844%"
       }
      }
     }
    },
    "slideshow": {
     "slide_type": "slide"
    },
    "tags": []
   },
   "source": [
    "## Comparing different 4D STEM packages"
   ]
  },
  {
   "cell_type": "markdown",
   "id": "3669d002-9f82-4127-aa54-528522c94e62",
   "metadata": {
    "@deathbeds/jupyterlab-fonts": {
     "styles": {
      "": {
       "body[data-jp-deck-mode='presenting'] &": {
        "height": "64.71644150962902%",
        "left": "14.312500272478376%",
        "opacity": "100%",
        "position": "fixed",
        "top": "25.38437437695682%",
        "width": "67.32440403529576%",
        "zoom": "500%"
       }
      }
     }
    },
    "slideshow": {
     "slide_type": "fragment"
    },
    "tags": []
   },
   "source": [
    "<center><img src=\"Images/CodeComparison.png\" alt=\"Comp\" width=\"600\" height=\"600\"></center>"
   ]
  },
  {
   "cell_type": "markdown",
   "id": "9e7c092c-bbf8-46ac-a52b-b1089fab858f",
   "metadata": {
    "slideshow": {
     "slide_type": "slide"
    },
    "tags": []
   },
   "source": [
    "## Pyxem History"
   ]
  },
  {
   "cell_type": "markdown",
   "id": "b483294b-dde8-4a6e-81c0-1e27fe8dfd20",
   "metadata": {
    "slideshow": {
     "slide_type": "fragment"
    },
    "tags": []
   },
   "source": [
    "- Started in 2016 by Duncan Johnstone\n",
    "- Around 2018 Split from pyxem into diffsims(kinematic simulation) and orix(orientation/symmetry)\n",
    "- Around 2019 merged with pixstem and empyer\n",
    "- Added kikuchipy to the larger pyxem organization ~2019\n"
   ]
  },
  {
   "cell_type": "markdown",
   "id": "1a8eb2d9-5efb-4ea5-aae0-ad1fcdaf0814",
   "metadata": {
    "@deathbeds/jupyterlab-fonts": {
     "styles": {
      "": {
       "body[data-jp-deck-mode='presenting'] &": {
        "zoom": "224%"
       }
      }
     }
    },
    "slideshow": {
     "slide_type": "slide"
    },
    "tags": []
   },
   "source": [
    "# Extending Hyperspy's Capabilities"
   ]
  },
  {
   "cell_type": "markdown",
   "id": "e121f3ae-7de8-409a-938d-ce57fe992601",
   "metadata": {
    "@deathbeds/jupyterlab-fonts": {
     "styles": {
      "": {
       "body[data-jp-deck-mode='presenting'] &": {
        "zoom": "189%"
       }
      }
     }
    },
    "slideshow": {
     "slide_type": "fragment"
    },
    "tags": []
   },
   "source": [
    "Pyxem works _with_ hyperspy to manage very large datasets. In order to acomplish this pyxem makes heavy use of:\n",
    "\n",
    "- Lazy operations including lazy loading of data and lazy plotting\n",
    "- Efficient loading of data from file (using primarily the .zarr file specificiation)\n",
    "- Scalibility through Dask allowing running on a single core to running distributed clustering computing\n",
    "\n",
    "All together pyxem offers _fast_ scalable performance across the board paired with the great tools for visualization offered through hyperspy\n",
    "\n",
    "<center>\n",
    "<img src=\"Images/zarr-pink-horizontal.svg\" alt=\"ZARR\" width=\"300\" height=\"300\">  <img src=\"Images/dask_horizontal.svg\" alt=\"DASK\" width=\"300\" height=\"300\" ></center>"
   ]
  },
  {
   "cell_type": "markdown",
   "id": "7256c4e0-d657-4f91-b303-e08e6c5717c9",
   "metadata": {
    "@deathbeds/jupyterlab-fonts": {
     "styles": {
      "": {
       "body[data-jp-deck-mode='presenting'] &": {
        "zoom": "224%"
       }
      }
     }
    },
    "slideshow": {
     "slide_type": "slide"
    },
    "tags": []
   },
   "source": [
    "## Starting up Dask Distributed"
   ]
  },
  {
   "cell_type": "code",
   "execution_count": null,
   "id": "87bcef3a-bc15-4680-bf85-fd6e17897b13",
   "metadata": {
    "@deathbeds/jupyterlab-fonts": {
     "styles": {
      "": {
       "body[data-jp-deck-mode='presenting'] &": {
        "zoom": "160%"
       }
      }
     }
    },
    "slideshow": {
     "slide_type": "fragment"
    },
    "tags": []
   },
   "outputs": [],
   "source": [
    "#from dask.distributed import Client\n",
    "#client = Client(silence_logs=\"CRITICAL\")  # set up local cluster on your laptop\n",
    "#client"
   ]
  },
  {
   "cell_type": "markdown",
   "id": "6807f5b1-2c70-405f-8bdd-52e828ac61fd",
   "metadata": {},
   "source": [
    "## Visualizing Your Data"
   ]
  },
  {
   "cell_type": "code",
   "execution_count": null,
   "id": "eaf5f321-9d40-4ee7-9b98-78fe9d154b64",
   "metadata": {
    "@deathbeds/jupyterlab-fonts": {
     "styles": {
      "": {
       "body[data-jp-deck-mode='presenting'] &": {
        "zoom": "105%"
       }
      }
     }
    },
    "slideshow": {
     "slide_type": "slide"
    },
    "tags": []
   },
   "outputs": [],
   "source": [
    "# setting the plotting backend\n",
    "# ctrl+enter\n",
    "%matplotlib widget\n",
    "import matplotlib.pyplot as plt\n",
    "plt.style.use('dark_background') #lets use dark mode just for fun :)\n",
    "dp = hs.load(\"data/mgo_nanoparticles.zspy\", lazy=True) # Use Zarr backend for speed and load lazily cause we can\n",
    "dp.plot()"
   ]
  },
  {
   "cell_type": "markdown",
   "id": "1a170861-54f6-496b-8aa6-d7403c7ce922",
   "metadata": {
    "@deathbeds/jupyterlab-fonts": {
     "styles": {
      "": {
       "body[data-jp-deck-mode='presenting'] &": {
        "zoom": "214%"
       }
      }
     }
    },
    "slideshow": {
     "slide_type": "slide"
    },
    "tags": []
   },
   "source": [
    "## Creating Virtual Images\n",
    "We can construct Virtual images very easily (and interactively using widgets)"
   ]
  },
  {
   "cell_type": "code",
   "execution_count": null,
   "id": "cc9c11e7-13ba-4dbf-bc73-19b19d46f473",
   "metadata": {
    "slideshow": {
     "slide_type": "slide"
    },
    "tags": []
   },
   "outputs": [],
   "source": [
    "#press ctr-enter to run cell!\n",
    "mean_cbed = dp.mean() # get the mean diffraction pattern\n",
    "mean_cbed.plot(vmax=10000) # plot the mean diffraction pattern\n",
    "bf_roi = hs.roi.CircleROI(cx=0, cy=0, r= 0.2) # create a Brightfield ROI\n",
    "bf_roi.add_widget(mean_cbed) # add roi to plot   "
   ]
  },
  {
   "cell_type": "markdown",
   "id": "b2e360f0-6fcd-4700-a66a-6093aa3a84e0",
   "metadata": {
    "@deathbeds/jupyterlab-fonts": {
     "styles": {
      "": {
       "body[data-jp-deck-mode='presenting'] &": {
        "height": "5.324286053405371%",
        "left": "43.50614838347545%",
        "position": "fixed",
        "top": "44.843450687614364%",
        "width": "73.85594421186416%"
       }
      }
     }
    },
    "slideshow": {
     "slide_type": "fragment"
    },
    "tags": []
   },
   "source": [
    "# Try moving around the Interactive Widget!\n",
    "\n",
    "### You can grab the squares to move the ROI"
   ]
  },
  {
   "cell_type": "code",
   "execution_count": null,
   "id": "fe31dc9e-ce93-4eb4-8a68-f1d9f889e11f",
   "metadata": {
    "slideshow": {
     "slide_type": "slide"
    },
    "tags": []
   },
   "outputs": [],
   "source": [
    "#press ctr+enter to run! \n",
    "mean_cbed.plot(vmax=10000) # plot the mean diffraction pattern\n",
    "df_roi = hs.roi.CircleROI(cx=0, cy=0, r_inner= 0.4, r=2.) #create a Darkfield ROI\n",
    "df_roi.add_widget(mean_cbed) # add roi to plot "
   ]
  },
  {
   "cell_type": "markdown",
   "id": "b6e2dcdf-0374-4937-a4c1-b4b4ffcab812",
   "metadata": {
    "slideshow": {
     "slide_type": "slide"
    },
    "tags": []
   },
   "source": [
    "## Make Virtual Diffraction Patterns"
   ]
  },
  {
   "cell_type": "code",
   "execution_count": null,
   "id": "d6594441-7998-4604-b2f4-d98e373671bd",
   "metadata": {
    "@deathbeds/jupyterlab-fonts": {
     "styles": {
      "": {
       "body[data-jp-deck-mode='presenting'] &": {
        "zoom": "174%"
       }
      }
     }
    },
    "slideshow": {
     "slide_type": "fragment"
    },
    "tags": []
   },
   "outputs": [],
   "source": [
    "import matplotlib.pyplot as plt\n",
    "bf = dp.get_integrated_intensity(bf_roi) # integrate the BF ROI\n",
    "df =  dp.get_integrated_intensity(df_roi) # integrate the DF ROI \n",
    "hs.plot.plot_images([bf, df], label=[\"Virtual Bright Field\", \"Virtual Dark Field\"], tight_layout=True, colorbar=None) # Plot both ROI's using hyperspy"
   ]
  },
  {
   "cell_type": "markdown",
   "id": "aafad88d-0105-4528-8dcf-ea24c0d3eb27",
   "metadata": {
    "slideshow": {
     "slide_type": "slide"
    },
    "tags": []
   },
   "source": [
    "# Finding Peaks in 2D \n",
    "\n",
    "- Hyperspy also has function for finding features in 2 dimensions. \n",
    "- Lets look at the find_peaks function!"
   ]
  },
  {
   "cell_type": "code",
   "execution_count": null,
   "id": "ee33a000-d7bf-43fe-b31b-e4a60a8e928e",
   "metadata": {
    "tags": []
   },
   "outputs": [],
   "source": [
    "import numpy as np\n",
    "from skimage.morphology import disk\n",
    "dp_sliced = dp.inav[20:30,20:30]\n",
    "slic_max = np.max(dp_sliced.data)\n",
    "dp_sliced = dp_sliced/slic_max * 20\n",
    "pks = dp_sliced.find_peaks(method=\"local_max\",\n",
    "                           threshold_abs=10, \n",
    "                           min_distance=3,\n",
    "                           template=disk(2)) "
   ]
  },
  {
   "cell_type": "markdown",
   "id": "a2dfc1eb-48ef-4cdc-ab5d-0b31759dc0ac",
   "metadata": {
    "slideshow": {
     "slide_type": "slide"
    },
    "tags": []
   },
   "source": [
    "## Converting the Peaks to Pyxem Diffraction Vector"
   ]
  },
  {
   "cell_type": "code",
   "execution_count": null,
   "id": "df04d487-200c-41df-9d98-34091b7b9fac",
   "metadata": {
    "slideshow": {
     "slide_type": "slide"
    },
    "tags": []
   },
   "outputs": [],
   "source": [
    "from pyxem.signals import DiffractionVectors\n",
    "import numpy as np\n",
    "\n",
    "pks = dp.find_peaks(interactive=False, \n",
    "                    method=\"local_max\",\n",
    "                    threshold_abs=1.6*slic_max/20,\n",
    "                    min_distance=3)\n",
    "dv = DiffractionVectors.from_peaks(peaks=pks,\n",
    "                                   center=np.array(dp.axes_manager.signal_shape)/2-.5,\n",
    "                                   calibration=dp.axes_manager.signal_axes[0].scale)"
   ]
  },
  {
   "cell_type": "markdown",
   "id": "ec4d1d3b-805a-430a-864d-3eeff2025ce9",
   "metadata": {},
   "source": [
    "# Visualizing The Peaks"
   ]
  },
  {
   "cell_type": "code",
   "execution_count": null,
   "id": "e8fde149-9914-40ec-88e0-ac0070c6a636",
   "metadata": {
    "tags": []
   },
   "outputs": [],
   "source": [
    "%matplotlib widget\n",
    "from pyxem.signals.diffraction_vectors import generate_marker_inputs_from_peaks\n",
    "xx,yy = generate_marker_inputs_from_peaks(dv)\n",
    "dp.plot(vmax=7000)\n",
    "for x,y in zip(xx,yy):\n",
    "    m = hs.plot.markers.Point(y,x, color=\"r\", size=100, )\n",
    "    dp.add_marker(m, plot_marker=True, permanent=False,)"
   ]
  },
  {
   "cell_type": "code",
   "execution_count": null,
   "id": "154e5fd3-d9e2-4abc-8dc8-76543e581236",
   "metadata": {
    "slideshow": {
     "slide_type": "subslide"
    },
    "tags": []
   },
   "outputs": [],
   "source": [
    "dv.get_diffracting_pixels_map().plot()"
   ]
  },
  {
   "cell_type": "markdown",
   "id": "836457bd-a048-4995-95f8-94c46e7275fd",
   "metadata": {
    "slideshow": {
     "slide_type": "slide"
    },
    "tags": []
   },
   "source": [
    "# Clustering the Diffraction Vectors "
   ]
  },
  {
   "cell_type": "code",
   "execution_count": null,
   "id": "3c1b8307-b9d0-4f13-90ec-f2a5b4b1ac04",
   "metadata": {
    "slideshow": {
     "slide_type": "fragment"
    },
    "tags": []
   },
   "outputs": [],
   "source": [
    "distance_threshold = 0.1\n",
    "min_samples = 7\n",
    "\n",
    "unique_peaks = dv.get_unique_vectors(method='DBSCAN',\n",
    "                                     distance_threshold=distance_threshold,\n",
    "                                     min_samples=min_samples)\n",
    "print(np.shape(unique_peaks.data)[0], ' unique vectors were found.')\n",
    "\n",
    "unique_peaks = unique_peaks.filter_magnitude(min_magnitude=.4,\n",
    "                                   max_magnitude=np.inf)\n",
    "print(np.shape(unique_peaks)[0], ' unique vectors.')"
   ]
  },
  {
   "cell_type": "markdown",
   "id": "ae199e51-2d5d-411f-85be-6031bb0558ae",
   "metadata": {
    "slideshow": {
     "slide_type": "slide"
    },
    "tags": []
   },
   "source": [
    "## Plotting the Clustered Diffraction Vector\n",
    "\n",
    "Try to moving the maker over the indentified spots to make virtual images!"
   ]
  },
  {
   "cell_type": "code",
   "execution_count": null,
   "id": "13ff6f5b-80d7-4ede-9c5e-6f2ca69476cf",
   "metadata": {
    "slideshow": {
     "slide_type": "fragment"
    },
    "tags": []
   },
   "outputs": [],
   "source": [
    "%matplotlib widget\n",
    "dpt = dp.T\n",
    "dpt.plot()\n",
    "for x,y in zip(unique_peaks.data[:,1],unique_peaks.data[:,0]):\n",
    "    markers = hs.plot.markers.Point(x= x,y=y, color=\"r\")\n",
    "    dpt.add_marker(markers, plot_on_signal=False)"
   ]
  },
  {
   "cell_type": "markdown",
   "id": "923c3b10-b5f5-4c66-8294-eaf039451fe8",
   "metadata": {
    "@deathbeds/jupyterlab-fonts": {
     "styles": {
      "": {
       "body[data-jp-deck-mode='presenting'] &": {
        "zoom": "183%"
       }
      }
     }
    },
    "slideshow": {
     "slide_type": "slide"
    },
    "tags": []
   },
   "source": [
    "## Making Virtual Images from the Vectors"
   ]
  },
  {
   "cell_type": "code",
   "execution_count": null,
   "id": "d8a9c1bc-1a1f-49de-9dc0-d5b027d5b847",
   "metadata": {
    "@deathbeds/jupyterlab-fonts": {
     "styles": {
      "": {
       "body[data-jp-deck-mode='presenting'] &": {
        "zoom": "218%"
       }
      }
     }
    },
    "slideshow": {
     "slide_type": "fragment"
    },
    "tags": []
   },
   "outputs": [],
   "source": [
    "from pyxem.generators import VirtualDarkFieldGenerator\n",
    "radius=0.1\n",
    "vdfgen = VirtualDarkFieldGenerator(dp, unique_peaks) \n",
    "VDFs = vdfgen.get_virtual_dark_field_images(radius=radius)\n",
    "VDFs"
   ]
  },
  {
   "cell_type": "markdown",
   "id": "f208a8b0-e413-4db7-b4b7-813f79bc0305",
   "metadata": {
    "@deathbeds/jupyterlab-fonts": {
     "styles": {
      "": {
       "body[data-jp-deck-mode='presenting'] &": {
        "z-index": "0",
        "zoom": "183%"
       }
      }
     }
    },
    "slideshow": {
     "slide_type": "slide"
    },
    "tags": []
   },
   "source": [
    "## Plotting the Virtual Images"
   ]
  },
  {
   "cell_type": "code",
   "execution_count": null,
   "id": "38a778c3-9f15-4827-b643-58bf85b6d114",
   "metadata": {
    "slideshow": {
     "slide_type": "fragment"
    },
    "tags": []
   },
   "outputs": [],
   "source": [
    "VDFs.plot()"
   ]
  },
  {
   "cell_type": "markdown",
   "id": "4f15045d-fae3-4353-85f9-b3356b4f5f82",
   "metadata": {
    "slideshow": {
     "slide_type": "slide"
    },
    "tags": []
   },
   "source": [
    "## Other Available Tools"
   ]
  },
  {
   "cell_type": "markdown",
   "id": "63133c25-1159-467e-89ac-bbea2678e042",
   "metadata": {
    "slideshow": {
     "slide_type": "fragment"
    },
    "tags": []
   },
   "source": [
    "<img src=\"Images/CorrelationSymmetryMaps.png\" alt=\"Corr\" width=\"300\" height=\"300\"> "
   ]
  },
  {
   "cell_type": "markdown",
   "id": "0018cc06-384c-4f91-a65c-46651535b9f3",
   "metadata": {
    "@deathbeds/jupyterlab-fonts": {
     "styles": {
      "": {
       "body[data-jp-deck-mode='presenting'] &": {
        "height": "23.778578922349766%",
        "left": "54.31864766470247%",
        "position": "fixed",
        "top": "39.63497818305318%",
        "width": "85.95182958305159%"
       }
      }
     }
    },
    "slideshow": {
     "slide_type": "fragment"
    },
    "tags": []
   },
   "source": [
    "<img src=\"Images/STEMDPC.png\" alt=\"DPC\" width=\"300\" height=\"300\" >"
   ]
  },
  {
   "cell_type": "markdown",
   "id": "0226e35d-b26b-4c80-9a40-b684df2445cd",
   "metadata": {
    "@deathbeds/jupyterlab-fonts": {
     "styles": {
      "": {
       "body[data-jp-deck-mode='presenting'] &": {
        "height": "26.728840998937653%",
        "left": "27.02473046422189%",
        "position": "fixed",
        "top": "38.39550546216907%",
        "width": "81.72205552067233%"
       }
      }
     }
    },
    "slideshow": {
     "slide_type": "fragment"
    },
    "tags": []
   },
   "source": [
    "<img src=\"Images/OrientationMapping.png\" alt=\"Orient\" width=\"300\" height=\"300\" >"
   ]
  },
  {
   "cell_type": "markdown",
   "id": "2573e57b-067e-43af-bbd4-9275143fae58",
   "metadata": {
    "@deathbeds/jupyterlab-fonts": {
     "styles": {
      "": {
       "body[data-jp-deck-mode='presenting'] &": {
        "zoom": "384%"
       }
      }
     }
    },
    "slideshow": {
     "slide_type": "slide"
    },
    "tags": []
   },
   "source": [
    "## Lazy Data in Pyxem\n",
    "1. Allows you to operate on datasets larger than available memory \n",
    "2. Increases parallelism\n",
    "3. Allows you to split operations easily across many machienes\n",
    "4. Simplifies and speeds up your workflows. "
   ]
  },
  {
   "cell_type": "markdown",
   "id": "f2966381-4b07-40e6-b9fc-2739783cf4ca",
   "metadata": {
    "slideshow": {
     "slide_type": "slide"
    },
    "tags": []
   },
   "source": [
    "# The Beauty of Streaming Data\n",
    "\n",
    "- Same workflow for 10 Gb to 10 Tb\n",
    "- No dependacy on RAM\n",
    "- Loading Data from disk and transfer is ___No Lognger Slow___\n",
    "- We routinely see ~30Gb/sec i-o from spinning disks! \n",
    "- That means that we can theoretically process a 1 Tb dataset in ~ 1 minute"
   ]
  },
  {
   "cell_type": "markdown",
   "id": "31086441-7153-4857-bcae-9f7e46394578",
   "metadata": {},
   "source": [
    "## Performance Metrics for pyxem\n",
    "\n",
    "- Streaming Data from memory\n",
    "- 1024x1024x256x256 dataset (256 GB)"
   ]
  },
  {
   "cell_type": "markdown",
   "id": "fe243cbe-44d6-4865-b108-e70f6c17f8e3",
   "metadata": {},
   "source": [
    "<center><img src=\"Images/patternssec.png\" alt=\"Corr\" width=\"500\" height=\"500\"> </center>"
   ]
  },
  {
   "cell_type": "code",
   "execution_count": null,
   "id": "9b4ab178-f307-4655-8b0a-7e5319c467b7",
   "metadata": {},
   "outputs": [],
   "source": []
  }
 ],
 "metadata": {
  "@deathbeds/jupyterlab-fonts": {
   "styles": {
    ":root": {
     "--jp-content-font-size1": "17px"
    }
   }
  },
  "celltoolbar": "Slideshow",
  "kernelspec": {
   "display_name": "hyperspy-dev",
   "language": "python",
   "name": "hyperspy-dev"
  },
  "language_info": {
   "codemirror_mode": {
    "name": "ipython",
    "version": 3
   },
   "file_extension": ".py",
   "mimetype": "text/x-python",
   "name": "python",
   "nbconvert_exporter": "python",
   "pygments_lexer": "ipython3",
   "version": "3.10.11"
  },
  "rise": {
   "scroll": true,
   "start_slideshow_at": "selected",
   "theme": "serif"
  },
  "toc-autonumbering": false,
  "toc-showcode": false
 },
 "nbformat": 4,
 "nbformat_minor": 5
}
